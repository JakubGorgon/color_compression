{
 "cells": [
  {
   "cell_type": "code",
   "execution_count": 13,
   "metadata": {},
   "outputs": [],
   "source": [
    "import matplotlib.pyplot as plt\n",
    "import pandas as pd; import numpy as np\n",
    "import plotly.graph_objects as go\n",
    "%matplotlib inline\n",
    "from PIL import Image\n"
   ]
  },
  {
   "cell_type": "code",
   "execution_count": 12,
   "metadata": {},
   "outputs": [],
   "source": [
    "# img = plt.imread(\"../data/raw/img.jpg\")"
   ]
  },
  {
   "cell_type": "code",
   "execution_count": 5,
   "metadata": {},
   "outputs": [
    {
     "data": {
      "text/plain": [
       "(720, 1280, 3)"
      ]
     },
     "execution_count": 5,
     "metadata": {},
     "output_type": "execute_result"
    }
   ],
   "source": [
    "img.shape"
   ]
  },
  {
   "cell_type": "code",
   "execution_count": 11,
   "metadata": {},
   "outputs": [
    {
     "ename": "AttributeError",
     "evalue": "'DataFrame' object has no attribute 'reshape'",
     "output_type": "error",
     "traceback": [
      "\u001b[1;31m---------------------------------------------------------------------------\u001b[0m",
      "\u001b[1;31mAttributeError\u001b[0m                            Traceback (most recent call last)",
      "\u001b[1;32m~\\AppData\\Local\\Temp\\ipykernel_3060\\4274331931.py\u001b[0m in \u001b[0;36m?\u001b[1;34m()\u001b[0m\n\u001b[1;32m----> 1\u001b[1;33m \u001b[0mimg_df\u001b[0m \u001b[1;33m=\u001b[0m \u001b[0mpd\u001b[0m\u001b[1;33m.\u001b[0m\u001b[0mDataFrame\u001b[0m\u001b[1;33m(\u001b[0m\u001b[0mimg\u001b[0m\u001b[1;33m.\u001b[0m\u001b[0mreshape\u001b[0m\u001b[1;33m(\u001b[0m\u001b[0mimg\u001b[0m\u001b[1;33m.\u001b[0m\u001b[0mshape\u001b[0m\u001b[1;33m[\u001b[0m\u001b[1;36m0\u001b[0m\u001b[1;33m]\u001b[0m\u001b[1;33m*\u001b[0m\u001b[0mimg\u001b[0m\u001b[1;33m.\u001b[0m\u001b[0mshape\u001b[0m\u001b[1;33m[\u001b[0m\u001b[1;36m1\u001b[0m\u001b[1;33m]\u001b[0m\u001b[1;33m,\u001b[0m \u001b[1;36m3\u001b[0m\u001b[1;33m)\u001b[0m\u001b[1;33m,\u001b[0m \u001b[0mcolumns\u001b[0m\u001b[1;33m=\u001b[0m\u001b[1;33m[\u001b[0m\u001b[1;34m'r'\u001b[0m\u001b[1;33m,\u001b[0m \u001b[1;34m'g'\u001b[0m\u001b[1;33m,\u001b[0m \u001b[1;34m'b'\u001b[0m\u001b[1;33m]\u001b[0m\u001b[1;33m)\u001b[0m\u001b[1;33m\u001b[0m\u001b[1;33m\u001b[0m\u001b[0m\n\u001b[0m",
      "\u001b[1;32mc:\\Users\\kugor\\miniconda3\\envs\\st_env\\Lib\\site-packages\\pandas\\core\\generic.py\u001b[0m in \u001b[0;36m?\u001b[1;34m(self, name)\u001b[0m\n\u001b[0;32m   6295\u001b[0m             \u001b[1;32mand\u001b[0m \u001b[0mname\u001b[0m \u001b[1;32mnot\u001b[0m \u001b[1;32min\u001b[0m \u001b[0mself\u001b[0m\u001b[1;33m.\u001b[0m\u001b[0m_accessors\u001b[0m\u001b[1;33m\u001b[0m\u001b[1;33m\u001b[0m\u001b[0m\n\u001b[0;32m   6296\u001b[0m             \u001b[1;32mand\u001b[0m \u001b[0mself\u001b[0m\u001b[1;33m.\u001b[0m\u001b[0m_info_axis\u001b[0m\u001b[1;33m.\u001b[0m\u001b[0m_can_hold_identifiers_and_holds_name\u001b[0m\u001b[1;33m(\u001b[0m\u001b[0mname\u001b[0m\u001b[1;33m)\u001b[0m\u001b[1;33m\u001b[0m\u001b[1;33m\u001b[0m\u001b[0m\n\u001b[0;32m   6297\u001b[0m         \u001b[1;33m)\u001b[0m\u001b[1;33m:\u001b[0m\u001b[1;33m\u001b[0m\u001b[1;33m\u001b[0m\u001b[0m\n\u001b[0;32m   6298\u001b[0m             \u001b[1;32mreturn\u001b[0m \u001b[0mself\u001b[0m\u001b[1;33m[\u001b[0m\u001b[0mname\u001b[0m\u001b[1;33m]\u001b[0m\u001b[1;33m\u001b[0m\u001b[1;33m\u001b[0m\u001b[0m\n\u001b[1;32m-> 6299\u001b[1;33m         \u001b[1;32mreturn\u001b[0m \u001b[0mobject\u001b[0m\u001b[1;33m.\u001b[0m\u001b[0m__getattribute__\u001b[0m\u001b[1;33m(\u001b[0m\u001b[0mself\u001b[0m\u001b[1;33m,\u001b[0m \u001b[0mname\u001b[0m\u001b[1;33m)\u001b[0m\u001b[1;33m\u001b[0m\u001b[1;33m\u001b[0m\u001b[0m\n\u001b[0m",
      "\u001b[1;31mAttributeError\u001b[0m: 'DataFrame' object has no attribute 'reshape'"
     ]
    }
   ],
   "source": [
    "img_df = pd.DataFrame(img.reshape(img.shape[0]*img.shape[1], 3), columns=['r', 'g', 'b'])"
   ]
  },
  {
   "cell_type": "code",
   "execution_count": 14,
   "metadata": {},
   "outputs": [
    {
     "data": {
      "text/plain": [
       "array([[[191,  63, 165],\n",
       "        [191,  63, 165],\n",
       "        [191,  63, 165],\n",
       "        ...,\n",
       "        [210, 181, 232],\n",
       "        [210, 181, 232],\n",
       "        [210, 181, 232]],\n",
       "\n",
       "       [[191,  63, 165],\n",
       "        [191,  63, 165],\n",
       "        [191,  63, 165],\n",
       "        ...,\n",
       "        [208, 177, 228],\n",
       "        [208, 177, 228],\n",
       "        [208, 177, 228]],\n",
       "\n",
       "       [[191,  63, 165],\n",
       "        [191,  63, 165],\n",
       "        [191,  63, 165],\n",
       "        ...,\n",
       "        [206, 173, 225],\n",
       "        [206, 173, 225],\n",
       "        [206, 173, 225]],\n",
       "\n",
       "       ...,\n",
       "\n",
       "       [[196,  87,   1],\n",
       "        [196,  87,   1],\n",
       "        [196,  87,   1],\n",
       "        ...,\n",
       "        [190, 144, 119],\n",
       "        [190, 144, 119],\n",
       "        [190, 144, 119]],\n",
       "\n",
       "       [[196,  87,   1],\n",
       "        [196,  87,   1],\n",
       "        [196,  87,   1],\n",
       "        ...,\n",
       "        [190, 144, 119],\n",
       "        [190, 144, 119],\n",
       "        [190, 144, 119]],\n",
       "\n",
       "       [[196,  87,   1],\n",
       "        [196,  87,   1],\n",
       "        [196,  87,   1],\n",
       "        ...,\n",
       "        [190, 144, 119],\n",
       "        [190, 144, 119],\n",
       "        [190, 144, 119]]], dtype=uint8)"
      ]
     },
     "execution_count": 14,
     "metadata": {},
     "output_type": "execute_result"
    }
   ],
   "source": [
    "img"
   ]
  },
  {
   "cell_type": "code",
   "execution_count": 8,
   "metadata": {},
   "outputs": [
    {
     "data": {
      "text/plain": [
       "921600"
      ]
     },
     "execution_count": 8,
     "metadata": {},
     "output_type": "execute_result"
    }
   ],
   "source": [
    "1280*720"
   ]
  },
  {
   "cell_type": "code",
   "execution_count": 31,
   "metadata": {},
   "outputs": [],
   "source": [
    "img = Image.open(\"../../../Desktop/DATABASES_COLORADO/Course3_week1/1.logfile.png\")"
   ]
  },
  {
   "cell_type": "code",
   "execution_count": 41,
   "metadata": {},
   "outputs": [
    {
     "data": {
      "text/plain": [
       "'RGB'"
      ]
     },
     "execution_count": 41,
     "metadata": {},
     "output_type": "execute_result"
    }
   ],
   "source": [
    "img.mode"
   ]
  },
  {
   "cell_type": "code",
   "execution_count": 40,
   "metadata": {},
   "outputs": [],
   "source": [
    "img = img.convert(\"RGB\")"
   ]
  },
  {
   "cell_type": "code",
   "execution_count": 29,
   "metadata": {},
   "outputs": [
    {
     "data": {
      "text/plain": [
       "array([[[191,  63, 165],\n",
       "        [191,  63, 165],\n",
       "        [191,  63, 165],\n",
       "        ...,\n",
       "        [210, 181, 232],\n",
       "        [210, 181, 232],\n",
       "        [210, 181, 232]],\n",
       "\n",
       "       [[191,  63, 165],\n",
       "        [191,  63, 165],\n",
       "        [191,  63, 165],\n",
       "        ...,\n",
       "        [208, 177, 228],\n",
       "        [208, 177, 228],\n",
       "        [208, 177, 228]],\n",
       "\n",
       "       [[191,  63, 165],\n",
       "        [191,  63, 165],\n",
       "        [191,  63, 165],\n",
       "        ...,\n",
       "        [206, 173, 225],\n",
       "        [206, 173, 225],\n",
       "        [206, 173, 225]],\n",
       "\n",
       "       ...,\n",
       "\n",
       "       [[196,  87,   1],\n",
       "        [196,  87,   1],\n",
       "        [196,  87,   1],\n",
       "        ...,\n",
       "        [190, 144, 119],\n",
       "        [190, 144, 119],\n",
       "        [190, 144, 119]],\n",
       "\n",
       "       [[196,  87,   1],\n",
       "        [196,  87,   1],\n",
       "        [196,  87,   1],\n",
       "        ...,\n",
       "        [190, 144, 119],\n",
       "        [190, 144, 119],\n",
       "        [190, 144, 119]],\n",
       "\n",
       "       [[196,  87,   1],\n",
       "        [196,  87,   1],\n",
       "        [196,  87,   1],\n",
       "        ...,\n",
       "        [190, 144, 119],\n",
       "        [190, 144, 119],\n",
       "        [190, 144, 119]]], dtype=uint8)"
      ]
     },
     "execution_count": 29,
     "metadata": {},
     "output_type": "execute_result"
    }
   ],
   "source": [
    "np.array(img)"
   ]
  },
  {
   "cell_type": "code",
   "execution_count": null,
   "metadata": {},
   "outputs": [],
   "source": []
  }
 ],
 "metadata": {
  "kernelspec": {
   "display_name": "st_env",
   "language": "python",
   "name": "python3"
  },
  "language_info": {
   "codemirror_mode": {
    "name": "ipython",
    "version": 3
   },
   "file_extension": ".py",
   "mimetype": "text/x-python",
   "name": "python",
   "nbconvert_exporter": "python",
   "pygments_lexer": "ipython3",
   "version": "3.12.4"
  }
 },
 "nbformat": 4,
 "nbformat_minor": 2
}
