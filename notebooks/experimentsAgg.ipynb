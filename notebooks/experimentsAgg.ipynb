{
 "cells": [
  {
   "cell_type": "code",
   "execution_count": 2,
   "metadata": {},
   "outputs": [],
   "source": [
    "from sklearn.cluster import AgglomerativeClustering\n",
    "import pandas as pd; import numpy as np\n",
    "from PIL import Image\n"
   ]
  },
  {
   "cell_type": "code",
   "execution_count": 4,
   "metadata": {},
   "outputs": [],
   "source": [
    "img = Image.open(\"../data/raw/img.jpg\")"
   ]
  },
  {
   "cell_type": "code",
   "execution_count": 6,
   "metadata": {},
   "outputs": [],
   "source": [
    "img_np = np.array(img)\n",
    "img_tab = pd.DataFrame(img_np.reshape(-1, 3), columns=['r', 'g', 'b'])\n",
    "img_flat = img_tab.values"
   ]
  },
  {
   "cell_type": "code",
   "execution_count": 19,
   "metadata": {},
   "outputs": [
    {
     "ename": "NameError",
     "evalue": "name 'compressed_image_pil' is not defined",
     "output_type": "error",
     "traceback": [
      "\u001b[1;31m---------------------------------------------------------------------------\u001b[0m",
      "\u001b[1;31mNameError\u001b[0m                                 Traceback (most recent call last)",
      "Cell \u001b[1;32mIn[19], line 21\u001b[0m\n\u001b[0;32m     17\u001b[0m     cluster_centers[cluster] \u001b[38;5;241m=\u001b[39m np\u001b[38;5;241m.\u001b[39mmean(cluster_pixels, axis\u001b[38;5;241m=\u001b[39m\u001b[38;5;241m0\u001b[39m)\n\u001b[0;32m     19\u001b[0m \u001b[38;5;66;03m# Now apply this clustering information to the full-sized image\u001b[39;00m\n\u001b[0;32m     20\u001b[0m \u001b[38;5;66;03m# Assign each pixel in the full image to the closest cluster center\u001b[39;00m\n\u001b[1;32m---> 21\u001b[0m original_pixel_data \u001b[38;5;241m=\u001b[39m np\u001b[38;5;241m.\u001b[39marray(\u001b[43mcompressed_image_pil\u001b[49m)\u001b[38;5;241m.\u001b[39mreshape(\u001b[38;5;241m-\u001b[39m\u001b[38;5;241m1\u001b[39m, \u001b[38;5;241m3\u001b[39m)\n\u001b[0;32m     22\u001b[0m full_labels \u001b[38;5;241m=\u001b[39m model\u001b[38;5;241m.\u001b[39mfit_predict(original_pixel_data)\n\u001b[0;32m     24\u001b[0m \u001b[38;5;66;03m# Replace each pixel in the original image with the cluster center\u001b[39;00m\n",
      "\u001b[1;31mNameError\u001b[0m: name 'compressed_image_pil' is not defined"
     ]
    }
   ],
   "source": [
    "X = [[1,2, 3],\n",
    "     [3,51,2]]\n",
    "\n",
    "model = AgglomerativeClustering()\n",
    "model.fit(img_F)\n"
   ]
  },
  {
   "cell_type": "code",
   "execution_count": 20,
   "metadata": {},
   "outputs": [],
   "source": [
    "import numpy as np\n",
    "import pandas as pd\n",
    "from PIL import Image\n",
    "from sklearn.cluster import AgglomerativeClustering\n",
    "\n",
    "# Step 1: Load the image and get the original image data\n",
    "img = Image.open(\"../data/raw/img.jpg\")\n",
    "img_np = np.array(img)  # Convert image to numpy array\n",
    "img_tab = pd.DataFrame(img_np.reshape(-1, 3), columns=['r', 'g', 'b'])  # Reshape to 2D\n",
    "img_flat = img_tab.values  # Flattened pixel data\n",
    "\n",
    "# Step 2: Downsample the image to reduce the number of pixels\n",
    "downsample_factor = 64\n",
    "small_image_pil = img.resize((img.width // downsample_factor, img.height // downsample_factor))\n",
    "\n",
    "# Step 3: Convert the downsampled image to pixel data\n",
    "small_pixel_data = np.array(small_image_pil).reshape(-1, 3)\n",
    "\n",
    "# Step 4: Perform Agglomerative Clustering on the downsampled image\n",
    "n_clusters = 2  # Number of desired colors\n",
    "model = AgglomerativeClustering(n_clusters=n_clusters)\n",
    "small_labels = model.fit_predict(small_pixel_data)\n",
    "\n",
    "# Step 5: Calculate the mean color for each cluster in the downsampled image\n",
    "cluster_centers = np.zeros((n_clusters, 3), dtype=np.uint8)\n",
    "for cluster in range(n_clusters):\n",
    "    cluster_pixels = small_pixel_data[small_labels == cluster]\n",
    "    cluster_centers[cluster] = np.mean(cluster_pixels, axis=0)\n",
    "\n",
    "# Step 6: Apply this clustering information to the full-sized image\n",
    "# Assign each pixel in the full image to the closest cluster center\n",
    "from sklearn.metrics import pairwise_distances_argmin\n",
    "\n",
    "# Use pairwise distances to assign each original pixel to the nearest cluster center\n",
    "full_labels = pairwise_distances_argmin(img_flat, cluster_centers)\n",
    "\n",
    "# Step 7: Replace each pixel in the original image with the cluster center\n",
    "compressed_image_data = cluster_centers[full_labels]\n",
    "compressed_image = compressed_image_data.reshape(img_np.shape)  # Reshape back to original dimensions\n",
    "\n",
    "# Step 8: Convert the numpy array back to a PIL image and save or display it\n",
    "compressed_image_pil = Image.fromarray(compressed_image.astype('uint8'))\n",
    "\n",
    "# Display or save the image (optional)\n",
    "compressed_image_pil.show()  # To display the image\n",
    "# compressed_image_pil.save(\"../data/compressed/compressed_img.jpg\")  # To save the image\n"
   ]
  },
  {
   "cell_type": "code",
   "execution_count": null,
   "metadata": {},
   "outputs": [],
   "source": []
  }
 ],
 "metadata": {
  "kernelspec": {
   "display_name": "st_coursera",
   "language": "python",
   "name": "python3"
  },
  "language_info": {
   "codemirror_mode": {
    "name": "ipython",
    "version": 3
   },
   "file_extension": ".py",
   "mimetype": "text/x-python",
   "name": "python",
   "nbconvert_exporter": "python",
   "pygments_lexer": "ipython3",
   "version": "3.12.4"
  }
 },
 "nbformat": 4,
 "nbformat_minor": 2
}
